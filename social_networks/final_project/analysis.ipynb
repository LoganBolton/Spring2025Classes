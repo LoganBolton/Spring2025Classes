{
 "cells": [
  {
   "cell_type": "code",
   "execution_count": 10,
   "id": "2033c005",
   "metadata": {},
   "outputs": [],
   "source": [
    "import pandas as pd\n",
    "import json\n",
    "import numpy as np"
   ]
  },
  {
   "cell_type": "code",
   "execution_count": 11,
   "id": "5f294d00",
   "metadata": {},
   "outputs": [
    {
     "data": {
      "text/plain": [
       "Index(['attention_matrix_path', 'max_nodes', 'num_nodes', 'num_edges',\n",
       "       'connection_probability', 'layer', 'head', 'source', 'target', 'tokens',\n",
       "       'prompt'],\n",
       "      dtype='object')"
      ]
     },
     "execution_count": 11,
     "metadata": {},
     "output_type": "execute_result"
    }
   ],
   "source": [
    "file = 'attention_matrices/metadata.json'\n",
    "\n",
    "with open(file, 'r') as f:\n",
    "    data = json.load(f)\n",
    "df = pd.DataFrame(data)\n",
    "df.columns\n"
   ]
  },
  {
   "cell_type": "code",
   "execution_count": 13,
   "id": "0914c0c1",
   "metadata": {},
   "outputs": [
    {
     "data": {
      "text/plain": [
       "num_edges\n",
       "21    33\n",
       "20    31\n",
       "19    31\n",
       "17    27\n",
       "22    25\n",
       "18    23\n",
       "23    22\n",
       "16    22\n",
       "25    17\n",
       "24    12\n",
       "15    10\n",
       "27     9\n",
       "26     7\n",
       "14     7\n",
       "28     6\n",
       "29     5\n",
       "30     4\n",
       "13     3\n",
       "12     2\n",
       "10     2\n",
       "9      2\n",
       "Name: count, dtype: int64"
      ]
     },
     "execution_count": 13,
     "metadata": {},
     "output_type": "execute_result"
    }
   ],
   "source": [
    "# df['num_nodes'].value_counts()\n",
    "df['num_edges'].value_counts()"
   ]
  }
 ],
 "metadata": {
  "kernelspec": {
   "display_name": ".venv",
   "language": "python",
   "name": "python3"
  },
  "language_info": {
   "codemirror_mode": {
    "name": "ipython",
    "version": 3
   },
   "file_extension": ".py",
   "mimetype": "text/x-python",
   "name": "python",
   "nbconvert_exporter": "python",
   "pygments_lexer": "ipython3",
   "version": "3.12.4"
  }
 },
 "nbformat": 4,
 "nbformat_minor": 5
}
