{
 "cells": [
  {
   "cell_type": "markdown",
   "metadata": {},
   "source": [
    "# Part 1: Summary Statistics (10pts)\n",
    "\n",
    "i. Overall Analysis\n",
    "a. Calculate the mean, median, and standard deviation for:\n",
    "\n",
    "mpg\n",
    "horsepower\n",
    "weight\n",
    "\n",
    "ii. Grouped Analysis\n",
    "a. Group the data by origin and calculate for each region:\n",
    "\n",
    "Average mpg\n",
    "Average horsepower\n",
    "Average weight\n",
    "\n",
    "b. Which region has the most fuel-efficient cars on average?\n",
    "# Part 2: Data Visualization (15pts)\n",
    "i. Univariate Analysis\n",
    "a. Create a histogram of mpg\n",
    "\n",
    "What is the most common range of fuel efficiency?\n",
    "\n",
    "b. Create a boxplot of weight grouped by cylinders\n",
    "\n",
    "What trends do you observe in vehicle weight based on the number of cylinders?\n",
    "\n",
    "ii. Bivariate Analysis\n",
    "a. Create a scatterplot of horsepower vs mpg\n",
    "\n",
    "Does higher horsepower generally relate to lower fuel efficiency?\n",
    "\n",
    "b. Create a scatterplot of weight vs mpg\n",
    "\n",
    "Discuss the relationship between vehicle weight and fuel efficiency\n",
    "\n",
    "iii. Trend Analysis\n",
    "a. Create a line plot of average mpg over model year\n",
    "\n",
    "How has fuel efficiency changed over time?"
   ]
  },
  {
   "cell_type": "code",
   "execution_count": 17,
   "metadata": {},
   "outputs": [
    {
     "data": {
      "text/plain": [
       "Index(['Unnamed: 0', 'mpg', 'cylinders', 'displacement', 'horsepower',\n",
       "       'weight', 'acceleration', 'model_year', 'origin', 'name'],\n",
       "      dtype='object')"
      ]
     },
     "execution_count": 17,
     "metadata": {},
     "output_type": "execute_result"
    }
   ],
   "source": [
    "import pandas as pd\n",
    "import numpy as np\n",
    "data_file = './mpg.csv'\n",
    "df = pd.read_csv(data_file)\n",
    "df.columns"
   ]
  },
  {
   "cell_type": "markdown",
   "metadata": {},
   "source": [
    "# Part 1"
   ]
  },
  {
   "cell_type": "markdown",
   "metadata": {},
   "source": [
    "## Main Analysis"
   ]
  },
  {
   "cell_type": "code",
   "execution_count": 4,
   "metadata": {},
   "outputs": [],
   "source": [
    "mpg_mean = df['mpg'].mean()\n",
    "mpg_median = df['mpg'].median()\n",
    "mpg_std = df['mpg'].std()\n",
    "\n",
    "horespower_mean = df['horsepower'].mean()\n",
    "horespower_median = df['horsepower'].median()\n",
    "horespower_std = df['horsepower'].std()\n",
    "\n",
    "weight_mean = df['weight'].mean()\n",
    "weight_median = df['weight'].median()\n",
    "weight_std = df['weight'].std()"
   ]
  },
  {
   "cell_type": "code",
   "execution_count": 5,
   "metadata": {},
   "outputs": [
    {
     "name": "stdout",
     "output_type": "stream",
     "text": [
      "MPG\n",
      "Mean:  23.445918367346938\n",
      "Median:  22.75\n",
      "Standard Deviation:  7.8050074865717995\n",
      "\n",
      "Horsepower\n",
      "Mean:  104.46938775510205\n",
      "Median:  93.5\n",
      "Standard Deviation:  38.49115993282849\n",
      "\n",
      "Weight\n",
      "Mean:  2977.5841836734694\n",
      "Median:  2803.5\n",
      "Standard Deviation:  849.4025600429492\n"
     ]
    }
   ],
   "source": [
    "print(\"MPG\")\n",
    "print(\"Mean: \", mpg_mean)\n",
    "print(\"Median: \", mpg_median)\n",
    "print(\"Standard Deviation: \", mpg_std)\n",
    "\n",
    "print()\n",
    "print(\"Horsepower\")\n",
    "print(\"Mean: \", horespower_mean)\n",
    "print(\"Median: \", horespower_median)\n",
    "print(\"Standard Deviation: \", horespower_std)\n",
    "\n",
    "print()\n",
    "print(\"Weight\")\n",
    "print(\"Mean: \", weight_mean)\n",
    "print(\"Median: \", weight_median)\n",
    "print(\"Standard Deviation: \", weight_std)"
   ]
  },
  {
   "cell_type": "code",
   "execution_count": 7,
   "metadata": {},
   "outputs": [
    {
     "name": "stdout",
     "output_type": "stream",
     "text": [
      "['usa' 'japan' 'europe']\n"
     ]
    }
   ],
   "source": [
    "print(df['origin'].unique())"
   ]
  },
  {
   "cell_type": "markdown",
   "metadata": {},
   "source": [
    "## Group by Region"
   ]
  },
  {
   "cell_type": "code",
   "execution_count": 8,
   "metadata": {},
   "outputs": [],
   "source": [
    "usa = df[df['origin'] == 'usa']\n",
    "japan = df[df['origin'] == 'japan']\n",
    "europe = df[df['origin'] == 'europe']\n",
    "\n",
    "usa_mpg_mean = usa['mpg'].mean()\n",
    "usa_horsepower_mean = usa['horsepower'].mean()\n",
    "usa_weight_mean = usa['weight'].mean()\n",
    "\n",
    "japan_mpg_mean = japan['mpg'].mean()\n",
    "japan_horsepower_mean = japan['horsepower'].mean()\n",
    "japan_weight_mean = japan['weight'].mean()\n",
    "\n",
    "europe_mpg_mean = europe['mpg'].mean()\n",
    "europe_horsepower_mean = europe['horsepower'].mean()\n",
    "europe_weight_mean = europe['weight'].mean()\n"
   ]
  },
  {
   "cell_type": "code",
   "execution_count": 11,
   "metadata": {},
   "outputs": [
    {
     "name": "stdout",
     "output_type": "stream",
     "text": [
      "USA\n",
      "MPG Mean:  20.0334693877551\n",
      "Horsepower Mean:  119.04897959183674\n",
      "Weight Mean:  3372.4897959183672\n",
      "\n",
      "Japan\n",
      "MPG Mean:  30.450632911392404\n",
      "Horsepower Mean:  79.83544303797468\n",
      "Weight Mean:  2221.227848101266\n",
      "\n",
      "Europe\n",
      "MPG Mean:  27.602941176470587\n",
      "Horsepower Mean:  80.55882352941177\n",
      "Weight Mean:  2433.470588235294\n",
      "\n",
      "Country with the most efficient cars: Japan\n"
     ]
    }
   ],
   "source": [
    "print(\"USA\")\n",
    "print(\"MPG Mean: \", usa_mpg_mean)\n",
    "print(\"Horsepower Mean: \", usa_horsepower_mean)\n",
    "print(\"Weight Mean: \", usa_weight_mean)\n",
    "\n",
    "print()\n",
    "print(\"Japan\")\n",
    "print(\"MPG Mean: \", japan_mpg_mean)\n",
    "print(\"Horsepower Mean: \", japan_horsepower_mean)\n",
    "print(\"Weight Mean: \", japan_weight_mean)\n",
    "\n",
    "print()\n",
    "print(\"Europe\")\n",
    "print(\"MPG Mean: \", europe_mpg_mean)\n",
    "print(\"Horsepower Mean: \", europe_horsepower_mean)\n",
    "print(\"Weight Mean: \", europe_weight_mean)\n",
    "\n",
    "print()\n",
    "if usa_mpg_mean > japan_mpg_mean and usa_mpg_mean > europe_mpg_mean:\n",
    "    effecient_country = \"USA\"\n",
    "elif japan_mpg_mean > usa_mpg_mean and japan_mpg_mean > europe_mpg_mean:\n",
    "    effecient_country = \"Japan\"\n",
    "else:\n",
    "    effecient_country = \"Europe\"\n",
    "print(f\"Country with the most efficient cars: {effecient_country}\")"
   ]
  },
  {
   "cell_type": "markdown",
   "metadata": {},
   "source": [
    "# Part 2"
   ]
  },
  {
   "cell_type": "code",
   "execution_count": 18,
   "metadata": {},
   "outputs": [
    {
     "data": {
      "image/png": "[encoded data removed]",
      "text/plain": [
       "<Figure size 640x480 with 1 Axes>"
      ]
     },
     "metadata": {},
     "output_type": "display_data"
    },
    {
     "name": "stdout",
     "output_type": "stream",
     "text": [
      "The most common MPG range is from 17.46 to 18.4\n"
     ]
    }
   ],
   "source": [
    "import matplotlib.pyplot as plt\n",
    "\n",
    "plt.hist(df['mpg'], bins=40, edgecolor='black')\n",
    "plt.title('Histogram of MPG')\n",
    "plt.xlabel('MPG')\n",
    "plt.ylabel('Frequency')\n",
    "plt.show()\n",
    "\n",
    "counts, bin_edges = np.histogram(df['mpg'], bins=40)\n",
    "\n",
    "# bin with biggest freq\n",
    "max_index = np.argmax(counts)\n",
    "most_common_range = (bin_edges[max_index], bin_edges[max_index + 1])\n",
    "\n",
    "print(f\"The most common MPG range is from {most_common_range[0]} to {most_common_range[1]}\")"
   ]
  },
  {
   "cell_type": "code",
   "execution_count": 20,
   "metadata": {},
   "outputs": [
    {
     "name": "stderr",
     "output_type": "stream",
     "text": [
      "/var/folders/kp/vdv61pd97vd0x29b257r8h7h0000gn/T/ipykernel_93159/3010619427.py:6: MatplotlibDeprecationWarning: The 'labels' parameter of boxplot() has been renamed 'tick_labels' since Matplotlib 3.9; support for the old name will be dropped in 3.11.\n",
      "  plt.boxplot(cylinder_groups, labels=sorted(groups.index))\n"
     ]
    },
    {
     "data": {
      "image/png": "[encoded data removed]",
      "text/plain": [
       "<Figure size 1000x600 with 1 Axes>"
      ]
     },
     "metadata": {},
     "output_type": "display_data"
    },
    {
     "name": "stdout",
     "output_type": "stream",
     "text": [
      "The weight of the vehicle tends to increase with the number of cylinders\n"
     ]
    }
   ],
   "source": [
    "groups = df.groupby('cylinders')['weight'].apply(list)\n",
    "\n",
    "cylinder_groups = [groups[c] for c in sorted(groups.index)]\n",
    "\n",
    "plt.figure(figsize=(10, 6))\n",
    "plt.boxplot(cylinder_groups, labels=sorted(groups.index))\n",
    "plt.title('Boxplot of Weight Grouped by Cylinders')\n",
    "plt.xlabel('Number of Cylinders')\n",
    "plt.ylabel('Weight')\n",
    "plt.show()\n",
    "\n",
    "print(\"The weight of the vehicle tends to increase with the number of cylinders\")"
   ]
  },
  {
   "cell_type": "code",
   "execution_count": null,
   "metadata": {},
   "outputs": [],
   "source": []
  }
 ],
 "metadata": {
  "kernelspec": {
   "display_name": "3.10.6",
   "language": "python",
   "name": "python3"
  },
  "language_info": {
   "codemirror_mode": {
    "name": "ipython",
    "version": 3
   },
   "file_extension": ".py",
   "mimetype": "text/x-python",
   "name": "python",
   "nbconvert_exporter": "python",
   "pygments_lexer": "ipython3",
   "version": "3.10.6"
  }
 },
 "nbformat": 4,
 "nbformat_minor": 2
}
