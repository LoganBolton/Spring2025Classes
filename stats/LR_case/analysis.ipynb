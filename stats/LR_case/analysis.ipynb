{
 "cells": [
  {
   "cell_type": "code",
   "execution_count": 3,
   "id": "40711569",
   "metadata": {},
   "outputs": [],
   "source": [
    "import numpy as np\n",
    "import pandas as pd\n",
    "import seaborn as sns\n",
    "import matplotlib.pyplot as plt\n",
    "from sklearn.datasets import load_iris"
   ]
  },
  {
   "cell_type": "markdown",
   "id": "ae033f81",
   "metadata": {},
   "source": [
    "# Problem 1\n",
    "\n",
    "### Hypothesis Testing using Simulation (10 pts)\n",
    "The dataset iris contains measurements on three species of iris flowers. In this assignment, you’ll focus only on the 50 observations with Species == \"versicolor\". Complete both of the following tasks and report results and interpretations.\n",
    "A botanist claims that the average sepal length of her Iris versicolor plants is 5.5 cm. You will test this claim via simulation."
   ]
  },
  {
   "cell_type": "code",
   "execution_count": 22,
   "id": "31db5bd1",
   "metadata": {},
   "outputs": [
    {
     "name": "stdout",
     "output_type": "stream",
     "text": [
      "5.936\n"
     ]
    }
   ],
   "source": [
    "iris = load_iris(as_frame=True)\n",
    "df = iris.frame\n",
    "df=df[df['target'] == 1] # only versicolor\n",
    "observed_mean = df['sepal length (cm)'].mean()\n",
    "print(observed_mean)"
   ]
  },
  {
   "cell_type": "code",
   "execution_count": 83,
   "id": "c76b515a",
   "metadata": {},
   "outputs": [
    {
     "name": "stdout",
     "output_type": "stream",
     "text": [
      "0.5161711470638635\n"
     ]
    }
   ],
   "source": [
    "observed_mean = df['sepal length (cm)'].mean()\n",
    "num_simulations = 1_000_000_000\n",
    "n = len(df)\n",
    "sample_std = df['sepal length (cm)'].std(ddof=1)\n",
    "print(sample_std)\n",
    "\n",
    "CLAIMED_MEAN = 5.5\n",
    "\n",
    "simulated_means = np.random.normal(loc=CLAIMED_MEAN, scale=sample_std/np.sqrt(n), size=num_simulations)\n"
   ]
  },
  {
   "cell_type": "code",
   "execution_count": 84,
   "id": "ce4203e5",
   "metadata": {},
   "outputs": [
    {
     "name": "stdout",
     "output_type": "stream",
     "text": [
      "p-value: 2e-09\n"
     ]
    }
   ],
   "source": [
    "observed_diff = np.abs(observed_mean - CLAIMED_MEAN)\n",
    "\n",
    "extreme_count = np.sum(np.abs(simulated_means - CLAIMED_MEAN) >= observed_diff)\n",
    "\n",
    "p_value = extreme_count / num_simulations\n",
    "print(f\"p-value: {p_value}\")"
   ]
  },
  {
   "cell_type": "code",
   "execution_count": 85,
   "id": "82e5fb6a",
   "metadata": {},
   "outputs": [
    {
     "data": {
      "image/png": "[encoded data removed]",
      "text/plain": [
       "<Figure size 640x480 with 1 Axes>"
      ]
     },
     "metadata": {},
     "output_type": "display_data"
    }
   ],
   "source": [
    "plt.hist(simulated_means, bins=40, alpha=0.7, edgecolor='black')\n",
    "plt.axvline(observed_mean, color='red', linestyle='--', label=f'Observed mean = {observed_mean:.2f}')\n",
    "plt.title(\"Simulated Distribution of Lengths\")\n",
    "plt.xlabel(\"Mean\")\n",
    "plt.ylabel(\"Frequency\")\n",
    "plt.legend()\n",
    "plt.show()"
   ]
  },
  {
   "cell_type": "markdown",
   "id": "d5c07a74",
   "metadata": {},
   "source": [
    "# Intepretation and Results\n",
    "\n",
    "The actual observed mean of the data was 5.94 cm with a standard deviation of 0.516 cm.\n",
    "\n",
    "In order to test the assumption that the true mean was 5.5, I ran 10,000,000 simulations. This resulted in a p-value of about 2e-9 Since this is dramatically less than 0.05, we **reject the null hypothesis** that the true mean is 5.5."
   ]
  },
  {
   "cell_type": "markdown",
   "id": "64e84330",
   "metadata": {},
   "source": [
    "# Problem 2\n",
    "\n",
    "### Simple linear regression: investigate if wind speed largely explains ozone variation\n",
    "a. Initial exploration - make a scatterplot and calculate correlation coefficient to identify the strength of their relationship.\n",
    "\n",
    "b. Fit a model, write down the fitted model and interpret: the coefficient estimates, model performance.\n",
    "\n",
    "c. Predict the ozone concentration when wind = 10 mph.\n",
    "\n",
    "d. Check model assumptions using diagnostic plots.\n",
    "### Multiple Linear regression: include wind speed, temperature and solar radiation to improve predictions\n",
    "a. Multicollinearity check using pairwise correlation plot.\n",
    "\n",
    "b. Fit a model, write down the fitted model and interpret: the coefficient estimates, model performance.\n",
    "\n",
    "c. Check model assumptions using diagnostic plots."
   ]
  },
  {
   "cell_type": "code",
   "execution_count": 2,
   "id": "be52632f",
   "metadata": {},
   "outputs": [],
   "source": [
    "df = pd.read_csv('airquality.csv')\n"
   ]
  },
  {
   "cell_type": "markdown",
   "id": "ff20e559",
   "metadata": {},
   "source": []
  }
 ],
 "metadata": {
  "kernelspec": {
   "display_name": "base",
   "language": "python",
   "name": "python3"
  },
  "language_info": {
   "codemirror_mode": {
    "name": "ipython",
    "version": 3
   },
   "file_extension": ".py",
   "mimetype": "text/x-python",
   "name": "python",
   "nbconvert_exporter": "python",
   "pygments_lexer": "ipython3",
   "version": "3.12.4"
  }
 },
 "nbformat": 4,
 "nbformat_minor": 5
}
