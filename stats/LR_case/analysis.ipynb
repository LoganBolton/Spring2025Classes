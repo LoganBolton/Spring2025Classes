{
 "cells": [
  {
   "cell_type": "code",
   "execution_count": 3,
   "id": "40711569",
   "metadata": {},
   "outputs": [],
   "source": [
    "import numpy as np\n",
    "import pandas as pd\n",
    "import seaborn as sns\n",
    "import matplotlib.pyplot as plt\n",
    "from sklearn.datasets import load_iris"
   ]
  },
  {
   "cell_type": "markdown",
   "id": "ae033f81",
   "metadata": {},
   "source": [
    "# Problem 1\n",
    "\n",
    "### Hypothesis Testing using Simulation (10 pts)\n",
    "The dataset iris contains measurements on three species of iris flowers. In this assignment, you’ll focus only on the 50 observations with Species == \"versicolor\". Complete both of the following tasks and report results and interpretations.\n",
    "A botanist claims that the average sepal length of her Iris versicolor plants is 5.5 cm. You will test this claim via simulation."
   ]
  },
  {
   "cell_type": "markdown",
   "id": "64e84330",
   "metadata": {},
   "source": [
    "# Problem 2\n",
    "\n",
    "### Simple linear regression: investigate if wind speed largely explains ozone variation\n",
    "a. Initial exploration - make a scatterplot and calculate correlation coefficient to identify the strength of their relationship.\n",
    "\n",
    "b. Fit a model, write down the fitted model and interpret: the coefficient estimates, model performance.\n",
    "\n",
    "c. Predict the ozone concentration when wind = 10 mph.\n",
    "\n",
    "d. Check model assumptions using diagnostic plots.\n",
    "### Multiple Linear regression: include wind speed, temperature and solar radiation to improve predictions\n",
    "a. Multicollinearity check using pairwise correlation plot.\n",
    "\n",
    "b. Fit a model, write down the fitted model and interpret: the coefficient estimates, model performance.\n",
    "\n",
    "c. Check model assumptions using diagnostic plots."
   ]
  },
  {
   "cell_type": "code",
   "execution_count": 2,
   "id": "be52632f",
   "metadata": {},
   "outputs": [],
   "source": [
    "df = pd.read_csv('airquality.csv')\n"
   ]
  },
  {
   "cell_type": "markdown",
   "id": "ff20e559",
   "metadata": {},
   "source": []
  }
 ],
 "metadata": {
  "kernelspec": {
   "display_name": "base",
   "language": "python",
   "name": "python3"
  },
  "language_info": {
   "codemirror_mode": {
    "name": "ipython",
    "version": 3
   },
   "file_extension": ".py",
   "mimetype": "text/x-python",
   "name": "python",
   "nbconvert_exporter": "python",
   "pygments_lexer": "ipython3",
   "version": "3.12.4"
  }
 },
 "nbformat": 4,
 "nbformat_minor": 5
}
